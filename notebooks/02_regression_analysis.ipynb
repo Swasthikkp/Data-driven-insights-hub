{
 "cells": [
  {
   "cell_type": "markdown",
   "id": "b2ae2510",
   "metadata": {},
   "source": [
    "# Regression Analysis (House Price Prediction)\n",
    "\n",
    "Author: Swasthik\n",
    "\n",
    "Dataset: 4) house Prediction Data Set (1).csv"
   ]
  },
  {
   "cell_type": "code",
   "execution_count": null,
   "id": "1198560f",
   "metadata": {},
   "outputs": [],
   "source": [
    "import pandas as pd\n",
    "import matplotlib.pyplot as plt\n",
    "from sklearn.model_selection import train_test_split\n",
    "from sklearn.linear_model import LinearRegression\n",
    "from sklearn.metrics import r2_score, mean_squared_error\n",
    "from src.helpers import save_fig\n",
    "\n",
    "df = pd.read_csv('data/4) house Prediction Data Set (1).csv')\n",
    "print('Loaded shape:', df.shape)\n",
    "df.head()"
   ]
  },
  {
   "cell_type": "code",
   "execution_count": null,
   "id": "f35e6ad9",
   "metadata": {},
   "outputs": [],
   "source": [
    "before = df.shape[0]\n",
    "df = df.drop_duplicates()\n",
    "for col in df.select_dtypes(include=['float64','int64']):\n",
    "    df[col] = df[col].fillna(df[col].median())\n",
    "possible_targets = [c for c in df.columns if c.lower() in ['price','saleprice','target','median_house_value','y']]\n",
    "if not possible_targets:\n",
    "    num_cols = df.select_dtypes(include=['float64','int64']).columns.tolist()\n",
    "    target = num_cols[-1] if len(num_cols) >= 2 else None\n",
    "else:\n",
    "    target = possible_targets[0]\n",
    "print('Detected target column:', target)"
   ]
  },
  {
   "cell_type": "code",
   "execution_count": null,
   "id": "202c9f58",
   "metadata": {},
   "outputs": [],
   "source": [
    "if target is None:\n",
    "    print('No clear numeric target found; regression demo will use a synthetic demo')\n",
    "else:\n",
    "    features = df.select_dtypes(include=['float64','int64']).drop(columns=[target])\n",
    "    if features.shape[1] > 5:\n",
    "        features = features.iloc[:, :5]\n",
    "    X = features\n",
    "    y = df[target]\n",
    "    X_train, X_test, y_train, y_test = train_test_split(X, y, test_size=0.2, random_state=42)\n",
    "    model = LinearRegression()\n",
    "    model.fit(X_train, y_train)\n",
    "    preds = model.predict(X_test)\n",
    "    r2 = r2_score(y_test, preds)\n",
    "    mse = mean_squared_error(y_test, preds)\n",
    "    print(f'R2: {r2:.4f}, MSE: {mse:.4f}')\n",
    "    fig = plt.figure()\n",
    "    plt.scatter(y_test, preds, alpha=0.6)\n",
    "    plt.xlabel('Actual')\n",
    "    plt.ylabel('Predicted')\n",
    "    plt.title('Actual vs Predicted')\n",
    "    save_fig(fig, 'figures/house_actual_vs_predicted.png')"
   ]
  }
 ],
 "metadata": {},
 "nbformat": 4,
 "nbformat_minor": 5
}
