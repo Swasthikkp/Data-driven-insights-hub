{
 "cells": [
  {
   "cell_type": "markdown",
   "id": "924e1d01",
   "metadata": {},
   "source": [
    "# NLP: Sentiment Analysis\n",
    "\n",
    "Author: Swasthik\n",
    "\n",
    "Dataset: 3) Sentiment dataset (1).csv"
   ]
  },
  {
   "cell_type": "code",
   "execution_count": null,
   "id": "436bdfbf",
   "metadata": {},
   "outputs": [],
   "source": [
    "import pandas as pd\n",
    "import matplotlib.pyplot as plt\n",
    "from textblob import TextBlob\n",
    "from src.helpers import save_fig\n",
    "\n",
    "df = pd.read_csv('data/3) Sentiment dataset (1).csv', encoding='latin1')\n",
    "print('Loaded shape:', df.shape)\n",
    "df.head()"
   ]
  },
  {
   "cell_type": "code",
   "execution_count": null,
   "id": "5df4bf96",
   "metadata": {},
   "outputs": [],
   "source": [
    "text_cols = [c for c in df.columns if df[c].dtype == 'object']\n",
    "print('Text-like columns:', text_cols)\n",
    "text_col = text_cols[0] if text_cols else None\n",
    "print('Using text column:', text_col)"
   ]
  },
  {
   "cell_type": "code",
   "execution_count": null,
   "id": "352675c8",
   "metadata": {},
   "outputs": [],
   "source": [
    "if text_col is None:\n",
    "    print('No text column detected; cannot run sentiment analysis')\n",
    "else:\n",
    "    df[text_col] = df[text_col].astype(str).str.strip()\n",
    "    df['polarity'] = df[text_col].apply(lambda t: TextBlob(t).sentiment.polarity)\n",
    "    df['sentiment_label'] = df['polarity'].apply(lambda p: 'positive' if p>0.1 else ('negative' if p < -0.1 else 'neutral'))\n",
    "    df['sentiment_label'].value_counts().to_csv('data/sentiment_label_counts.csv')\n",
    "    fig = plt.figure()\n",
    "    df['sentiment_label'].value_counts().plot(kind='bar')\n",
    "    plt.title('Sentiment distribution')\n",
    "    save_fig(fig, 'figures/sentiment_distribution.png')"
   ]
  }
 ],
 "metadata": {},
 "nbformat": 4,
 "nbformat_minor": 5
}
