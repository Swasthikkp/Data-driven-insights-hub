{
 "cells": [
  {
   "cell_type": "markdown",
   "id": "25922a6b",
   "metadata": {},
   "source": [
    "# Data Cleaning and Exploratory Data Analysis (Churn dataset)\n",
    "\n",
    "Author: Swasthik\n",
    "\n",
    "Dataset: churn-bigml-80.csv"
   ]
  },
  {
   "cell_type": "code",
   "execution_count": null,
   "id": "5e903088",
   "metadata": {},
   "outputs": [],
   "source": [
    "import pandas as pd\n",
    "import matplotlib.pyplot as plt\n",
    "from src.helpers import save_fig\n",
    "\n",
    "df = pd.read_csv('data/churn-bigml-80.csv')\n",
    "print('Loaded dataset with shape:', df.shape)\n",
    "df.head()"
   ]
  },
  {
   "cell_type": "code",
   "execution_count": null,
   "id": "9f51f1e6",
   "metadata": {},
   "outputs": [],
   "source": [
    "print(df.info())\n",
    "print('\\nMissing values per column:\\n', df.isna().sum())"
   ]
  },
  {
   "cell_type": "code",
   "execution_count": null,
   "id": "a0909ba4",
   "metadata": {},
   "outputs": [],
   "source": [
    "before = df.shape[0]\n",
    "df = df.drop_duplicates()\n",
    "after = df.shape[0]\n",
    "print(f'Dropped {before-after} duplicate rows')\n",
    "for col in df.columns:\n",
    "    if df[col].dtype in ['float64','int64']:\n",
    "        df[col] = df[col].fillna(df[col].median())\n",
    "    else:\n",
    "        df[col] = df[col].fillna(df[col].mode().iloc[0] if not df[col].mode().empty else '')\n",
    "print('Missing values after imputation:\\n', df.isna().sum().sum())"
   ]
  },
  {
   "cell_type": "code",
   "execution_count": null,
   "id": "4bf4c44e",
   "metadata": {},
   "outputs": [],
   "source": [
    "summary = df.describe(include='all')\n",
    "summary.to_csv('data/churn_summary_stats.csv')\n",
    "summary"
   ]
  },
  {
   "cell_type": "code",
   "execution_count": null,
   "id": "eccfb4d8",
   "metadata": {},
   "outputs": [],
   "source": [
    "if 'churn' in df.columns:\n",
    "    fig = plt.figure()\n",
    "    df['churn'].value_counts().plot(kind='bar')\n",
    "    plt.title('Churn value counts')\n",
    "    plt.xlabel('Churn')\n",
    "    plt.ylabel('Count')\n",
    "    save_fig(fig, 'figures/churn_value_counts.png')\n",
    "\n",
    "num_cols = df.select_dtypes(include=['float64','int64']).columns.tolist()\n",
    "if num_cols:\n",
    "    fig2 = plt.figure()\n",
    "    df[num_cols[0]].hist()\n",
    "    plt.title(f'Histogram of {num_cols[0]}')\n",
    "    save_fig(fig2, f'figures/hist_{num_cols[0]}.png')"
   ]
  }
 ],
 "metadata": {},
 "nbformat": 4,
 "nbformat_minor": 5
}
